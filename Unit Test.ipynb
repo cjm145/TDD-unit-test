{
 "cells": [
  {
   "cell_type": "code",
   "execution_count": 1,
   "metadata": {
    "scrolled": true
   },
   "outputs": [],
   "source": [
    "# import unittest\n",
    "# import heightstats\n",
    "\n",
    "# class TestsForHeightStats(unittest.TestCase):\n",
    "    \n",
    "#     def test_average_value(self):\n",
    "#         cm = heightstats.median([30,40,50,60,70])\n",
    "#         self.assertEqual(cm, 50.0)\n",
    "        \n",
    "#     def test_median_value2(self):\n",
    "#         cm = heightstats.median([30,40,50])\n",
    "#         self.assertEqual(cm, 40.0)\n",
    "    \n",
    "#     def test_median_value3(self):\n",
    "#         cm = heightstats.median([30,40,50,60])\n",
    "#         self.assertEqual(cm, 45.0)\n",
    "        \n",
    "# unittest.main(argv=['ignored', '-v'], exit=False)"
   ]
  },
  {
   "cell_type": "code",
   "execution_count": 2,
   "metadata": {},
   "outputs": [],
   "source": [
    "# import unittest\n",
    "# import heightstats\n",
    "\n",
    "# class TestsForHighest(unittest.TestCase):\n",
    "\n",
    "#     def test_max(self):\n",
    "#         height = (10, 20, 30, 40, 50)\n",
    "#         cm = heightstats.max(height)\n",
    "#         self.assertEqual(cm,50)\n",
    "        \n",
    "#     def test2_max(self):\n",
    "#         height = (10, 20, 50, 40, 30)\n",
    "#         cm = heightstats.max(height)\n",
    "#         self.assertEqual(cm,50)\n",
    "    \n",
    "#     def test3_max(self):\n",
    "#         height = [10, 20, 50, 40, 30]\n",
    "#         cm = heightstats.max(height)\n",
    "#         self.assertEqual(cm,50)\n",
    "        \n",
    "# unittest.main(argv=['ignored', '-v'], exit=False)\n"
   ]
  },
  {
   "cell_type": "code",
   "execution_count": 3,
   "metadata": {
    "scrolled": true
   },
   "outputs": [
    {
     "name": "stderr",
     "output_type": "stream",
     "text": [
      "test_mode (__main__.TestsForSmallest) ... ok\n",
      "\n",
      "----------------------------------------------------------------------\n",
      "Ran 1 test in 0.001s\n",
      "\n",
      "OK\n"
     ]
    },
    {
     "data": {
      "text/plain": [
       "<unittest.main.TestProgram at 0x7f59c00891d0>"
      ]
     },
     "execution_count": 3,
     "metadata": {},
     "output_type": "execute_result"
    }
   ],
   "source": [
    "import unittest\n",
    "import heightstats\n",
    "\n",
    "class TestsForSmallest(unittest.TestCase):\n",
    "\n",
    "    def test_mode(self):\n",
    "        freq = [1,10,20,33,44,1,20,21]\n",
    "        cm = heightstats.mode(freq)\n",
    "        self.assertEqual(cm,[1,20])\n",
    "        \n",
    "unittest.main(argv=['ignored', '-v'], exit=False)"
   ]
  }
 ],
 "metadata": {
  "kernelspec": {
   "display_name": "Python 3",
   "language": "python",
   "name": "python3"
  },
  "language_info": {
   "codemirror_mode": {
    "name": "ipython",
    "version": 3
   },
   "file_extension": ".py",
   "mimetype": "text/x-python",
   "name": "python",
   "nbconvert_exporter": "python",
   "pygments_lexer": "ipython3",
   "version": "3.7.6"
  }
 },
 "nbformat": 4,
 "nbformat_minor": 4
}
